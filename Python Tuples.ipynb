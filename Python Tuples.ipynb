{
 "cells": [
  {
   "cell_type": "markdown",
   "id": "1799c9cc-da6a-4f30-91c7-258c4e721402",
   "metadata": {},
   "source": [
    "### What are Tuples?\n",
    "- Tuples are used to store multiple items in a single variable.     \n",
    "\n",
    "**Tuple Characteristics**       \n",
    "- Ordered:       \n",
    "    - Tuples have a defined order that does not change.     \n",
    "- Unchangeable:     \n",
    "    - Once created, you cannot change, add, or remove items from a tuple.     \n",
    "- Allow Duplicates:     \n",
    "    - Tuples can have duplicate values. "
   ]
  },
  {
   "cell_type": "markdown",
   "id": "4058a851-d8a6-4848-81e7-d85793fd8b05",
   "metadata": {},
   "source": [
    "#### Syntax and Examples\n",
    "**Create a Tuple**:"
   ]
  },
  {
   "cell_type": "code",
   "execution_count": 3,
   "id": "a74a12d1-aadb-425c-a2d8-b1c0e7774136",
   "metadata": {},
   "outputs": [
    {
     "name": "stdout",
     "output_type": "stream",
     "text": [
      "('apple', 'banana', 'cherry')\n"
     ]
    }
   ],
   "source": [
    "thistuple = (\"apple\", \"banana\", \"cherry\")\n",
    "print(thistuple)"
   ]
  },
  {
   "cell_type": "markdown",
   "id": "5997446e-7e9b-4ba0-a7f8-73ce2e03a250",
   "metadata": {},
   "source": [
    "**Allow Duplicate Values:**"
   ]
  },
  {
   "cell_type": "code",
   "execution_count": 5,
   "id": "28b41be4-c7cc-450e-a3f1-0468c6c7a6a7",
   "metadata": {},
   "outputs": [
    {
     "name": "stdout",
     "output_type": "stream",
     "text": [
      "('apple', 'banana', 'cherry', 'apple', 'cherry')\n"
     ]
    }
   ],
   "source": [
    "thistuple = (\"apple\", \"banana\", \"cherry\", \"apple\", \"cherry\")\n",
    "print(thistuple) "
   ]
  },
  {
   "cell_type": "markdown",
   "id": "0b2eafc7-f1e8-499a-a5c5-03cc4e7bd165",
   "metadata": {},
   "source": [
    "**Tuple Length:**"
   ]
  },
  {
   "cell_type": "code",
   "execution_count": 7,
   "id": "a2288910-4f47-4f3f-a749-0a84435f8892",
   "metadata": {},
   "outputs": [
    {
     "name": "stdout",
     "output_type": "stream",
     "text": [
      "3\n"
     ]
    }
   ],
   "source": [
    "thistuple = (\"apple\", \"banana\", \"cherry\")\n",
    "print(len(thistuple))"
   ]
  },
  {
   "cell_type": "markdown",
   "id": "ba2648cd-53cc-4d2a-b9fc-45f7cd24a714",
   "metadata": {},
   "source": [
    "**Create a Tuple with One Item:**     \n",
    "- Add a comma after the single item:"
   ]
  },
  {
   "cell_type": "code",
   "execution_count": 9,
   "id": "829a5f36-a0f2-45d2-9320-5e5458404d08",
   "metadata": {},
   "outputs": [
    {
     "name": "stdout",
     "output_type": "stream",
     "text": [
      "<class 'tuple'>\n",
      "<class 'str'>\n"
     ]
    }
   ],
   "source": [
    "thistuple = (\"apple\",)\n",
    "print(type(thistuple))  \n",
    "\n",
    "# NOT a tuple:\n",
    "thistuple = (\"apple\")\n",
    "print(type(thistuple)) "
   ]
  },
  {
   "cell_type": "markdown",
   "id": "d030f81b-0d5c-45e4-abe1-1f03337abdf3",
   "metadata": {},
   "source": [
    "**Tuple Items - Data Types:**\n",
    "- Tuples can contain items of different data types:"
   ]
  },
  {
   "cell_type": "code",
   "execution_count": 11,
   "id": "577b4985-6822-4caa-8766-c251c4bd0396",
   "metadata": {},
   "outputs": [],
   "source": [
    "tuple1 = (\"apple\", \"banana\", \"cherry\")  # Strings\n",
    "tuple2 = (1, 5, 7, 9, 3)               # Integers\n",
    "tuple3 = (True, False, False)          # Booleans\n",
    "tuple4 = (\"abc\", 34, True, 40, \"male\")  # Mixed types"
   ]
  },
  {
   "cell_type": "markdown",
   "id": "36e77367-5d50-4210-a6d0-23e87461e9c8",
   "metadata": {},
   "source": [
    "**Check Tuple Data Type:**\n",
    "- Tuples are defined as objects with the data type 'tuple':\n"
   ]
  },
  {
   "cell_type": "code",
   "execution_count": 13,
   "id": "4d35def1-3437-4bd3-bbf6-149a36679f09",
   "metadata": {},
   "outputs": [
    {
     "name": "stdout",
     "output_type": "stream",
     "text": [
      "<class 'tuple'>\n"
     ]
    }
   ],
   "source": [
    "mytuple = (\"apple\", \"banana\", \"cherry\")\n",
    "print(type(mytuple))"
   ]
  },
  {
   "cell_type": "markdown",
   "id": "523e081e-bbc0-4d35-a448-ab3ba34c0413",
   "metadata": {},
   "source": [
    "**Create a Tuple Using the tuple() Constructor:**"
   ]
  },
  {
   "cell_type": "code",
   "execution_count": 15,
   "id": "42c27bcf-194f-4037-9fde-8f9a3f35eed8",
   "metadata": {},
   "outputs": [
    {
     "name": "stdout",
     "output_type": "stream",
     "text": [
      "('apple', 'banana', 'cherry')\n"
     ]
    }
   ],
   "source": [
    "thistuple = tuple((\"apple\", \"banana\", \"cherry\"))\n",
    "print(thistuple)  "
   ]
  },
  {
   "cell_type": "markdown",
   "id": "54a215b0-aee9-43fe-9a7e-be50fccf4174",
   "metadata": {},
   "source": [
    "**Access Tuple Items**\n",
    "- Access Items by Index:"
   ]
  },
  {
   "cell_type": "code",
   "execution_count": 17,
   "id": "f704399e-95e3-4747-883a-ef2c984d4d89",
   "metadata": {},
   "outputs": [
    {
     "name": "stdout",
     "output_type": "stream",
     "text": [
      "banana\n"
     ]
    }
   ],
   "source": [
    "thistuple = (\"apple\", \"banana\", \"cherry\")\n",
    "print(thistuple[1])"
   ]
  },
  {
   "cell_type": "markdown",
   "id": "086711d2-d7bd-43ba-b9dc-100259b1f15e",
   "metadata": {},
   "source": [
    "**Negative Indexing:**\n",
    "- Use negative indexing to access items from the end of the tuple:"
   ]
  },
  {
   "cell_type": "code",
   "execution_count": 19,
   "id": "a24b85d8-0b26-4644-b8e1-675ebc593f61",
   "metadata": {},
   "outputs": [
    {
     "name": "stdout",
     "output_type": "stream",
     "text": [
      "cherry\n"
     ]
    }
   ],
   "source": [
    "thistuple = (\"apple\", \"banana\", \"cherry\")\n",
    "print(thistuple[-1])"
   ]
  },
  {
   "cell_type": "markdown",
   "id": "f07be9c0-4f0e-42e2-a415-6c915788f678",
   "metadata": {},
   "source": [
    "**Range of Indexes:**\n",
    "- Specify a range of indexes to return a new tuple with the specified items:"
   ]
  },
  {
   "cell_type": "code",
   "execution_count": 21,
   "id": "6c5e83eb-31cd-4917-aced-cbbb23823a16",
   "metadata": {},
   "outputs": [
    {
     "name": "stdout",
     "output_type": "stream",
     "text": [
      "('cherry', 'orange', 'kiwi')\n"
     ]
    }
   ],
   "source": [
    "thistuple = (\"apple\", \"banana\", \"cherry\", \"orange\", \"kiwi\", \"melon\", \"mango\")\n",
    "print(thistuple[2:5])"
   ]
  },
  {
   "cell_type": "markdown",
   "id": "7390f800-aa63-4bff-8ee5-4f082da0fa3b",
   "metadata": {},
   "source": [
    "- Omitting Start Index:"
   ]
  },
  {
   "cell_type": "code",
   "execution_count": 23,
   "id": "071a67fe-62fb-4a4c-acd2-d5c15f8db027",
   "metadata": {},
   "outputs": [
    {
     "name": "stdout",
     "output_type": "stream",
     "text": [
      "('apple', 'banana', 'cherry', 'orange')\n"
     ]
    }
   ],
   "source": [
    "print(thistuple[:4])"
   ]
  },
  {
   "cell_type": "markdown",
   "id": "8bb836a3-9d41-45c9-983a-6f2165d2b4fe",
   "metadata": {},
   "source": [
    "- Omitting End Index:"
   ]
  },
  {
   "cell_type": "code",
   "execution_count": 25,
   "id": "74e92504-06d5-4d20-a7f0-9aee70b2dca1",
   "metadata": {},
   "outputs": [
    {
     "name": "stdout",
     "output_type": "stream",
     "text": [
      "('cherry', 'orange', 'kiwi', 'melon', 'mango')\n"
     ]
    }
   ],
   "source": [
    "print(thistuple[2:])"
   ]
  },
  {
   "cell_type": "markdown",
   "id": "d245e936-bf02-4af5-a723-6835c7ffa0fe",
   "metadata": {},
   "source": [
    "**Range of Negative Indexes:**\n",
    "- Use negative indexes to specify a range starting from the end of the tuple"
   ]
  },
  {
   "cell_type": "code",
   "execution_count": 27,
   "id": "6d356acf-0e38-4c71-ba74-765b45a2bccb",
   "metadata": {},
   "outputs": [
    {
     "name": "stdout",
     "output_type": "stream",
     "text": [
      "('orange', 'kiwi', 'melon')\n"
     ]
    }
   ],
   "source": [
    "print(thistuple[-4:-1])"
   ]
  },
  {
   "cell_type": "markdown",
   "id": "2c13c7d0-fb3f-466f-8929-5a97b5ccc7f7",
   "metadata": {},
   "source": [
    "**Check if Item Exists:**\n",
    "- Use the in keyword to check if an item exists in the tuple:"
   ]
  },
  {
   "cell_type": "code",
   "execution_count": 29,
   "id": "1ab9994d-660c-4d91-8011-c7d902d16683",
   "metadata": {},
   "outputs": [
    {
     "name": "stdout",
     "output_type": "stream",
     "text": [
      "Yes, 'apple' is in the fruits tuple\n"
     ]
    }
   ],
   "source": [
    "thistuple = (\"apple\", \"banana\", \"cherry\")\n",
    "if \"apple\" in thistuple:\n",
    "    print(\"Yes, 'apple' is in the fruits tuple\")"
   ]
  },
  {
   "cell_type": "markdown",
   "id": "8fbd4f42-df47-468e-a2f0-6b1b7a966a2c",
   "metadata": {},
   "source": [
    "### Update Tuples\n",
    "- Tuples are immutable, meaning you cannot change, add, or remove items once the tuple is created.\n",
    "- However, there are workarounds."
   ]
  },
  {
   "cell_type": "markdown",
   "id": "522d8a43-f4d8-4f4a-98bf-706088cd2792",
   "metadata": {},
   "source": [
    "**Change Tuple Values:**\n",
    "- Convert the tuple into a list, change the list, and convert it back into a tuple"
   ]
  },
  {
   "cell_type": "code",
   "execution_count": 32,
   "id": "a9919610-eed3-41e1-9582-a001d9b20694",
   "metadata": {},
   "outputs": [
    {
     "name": "stdout",
     "output_type": "stream",
     "text": [
      "('apple', 'kiwi', 'cherry')\n"
     ]
    }
   ],
   "source": [
    "x = (\"apple\", \"banana\", \"cherry\")\n",
    "y = list(x)\n",
    "y[1] = \"kiwi\" \n",
    "x = tuple(y)\n",
    "\n",
    "print(x)"
   ]
  },
  {
   "cell_type": "markdown",
   "id": "5f9b3e64-b7a8-4d6e-a041-61c47ca5f523",
   "metadata": {},
   "source": [
    "### Add Items"
   ]
  },
  {
   "cell_type": "markdown",
   "id": "0e0f6903-d828-40bf-8219-6d5ae4f7ad29",
   "metadata": {},
   "source": [
    "**Convert to a List:**\n",
    "- Convert the tuple to a list, add the item(s), and convert it back into a tuple:"
   ]
  },
  {
   "cell_type": "code",
   "execution_count": 35,
   "id": "71b6e6ad-0bcc-41c4-9305-062ef2356b15",
   "metadata": {},
   "outputs": [
    {
     "name": "stdout",
     "output_type": "stream",
     "text": [
      "('apple', 'banana', 'cherry', 'orange')\n"
     ]
    }
   ],
   "source": [
    "thistuple = (\"apple\", \"banana\", \"cherry\")\n",
    "y = list(thistuple)\n",
    "y.append(\"orange\")  \n",
    "thistuple = tuple(y)\n",
    "\n",
    "print(thistuple) "
   ]
  },
  {
   "cell_type": "markdown",
   "id": "9b562a17-63d0-4865-87db-72a54a68c6d3",
   "metadata": {},
   "source": [
    "**Add Tuple to Tuple:**\n",
    "- Create a new tuple with the item(s) and concatenate it with the existing tuple"
   ]
  },
  {
   "cell_type": "code",
   "execution_count": 37,
   "id": "0d8fe969-7b0d-4c0e-b5f7-04cc61ba5342",
   "metadata": {},
   "outputs": [
    {
     "name": "stdout",
     "output_type": "stream",
     "text": [
      "('apple', 'banana', 'cherry', 'orange')\n"
     ]
    }
   ],
   "source": [
    "thistuple = (\"apple\", \"banana\", \"cherry\")\n",
    "y = (\"orange\",)\n",
    "thistuple += y\n",
    "\n",
    "print(thistuple)  "
   ]
  },
  {
   "cell_type": "markdown",
   "id": "b20fe1c0-98ce-41b5-b84c-d46c659fb951",
   "metadata": {},
   "source": [
    "### Remove Items\n",
    "Tuples do not support item removal directly, but you can use a workaround:"
   ]
  },
  {
   "cell_type": "markdown",
   "id": "822c92f5-7537-4f8c-997c-c9517a35eaef",
   "metadata": {},
   "source": [
    "**Convert to a List:**\n",
    "- Convert the tuple into a list, remove the item(s), and convert it back into a tuple:"
   ]
  },
  {
   "cell_type": "code",
   "execution_count": 40,
   "id": "5cb00d03-0c4e-4394-b300-13b289334620",
   "metadata": {},
   "outputs": [
    {
     "name": "stdout",
     "output_type": "stream",
     "text": [
      "('banana', 'cherry')\n"
     ]
    }
   ],
   "source": [
    "thistuple = (\"apple\", \"banana\", \"cherry\")\n",
    "y = list(thistuple)\n",
    "y.remove(\"apple\")  \n",
    "thistuple = tuple(y)\n",
    "\n",
    "print(thistuple) "
   ]
  },
  {
   "cell_type": "markdown",
   "id": "35e7e2eb-6b90-4ece-a0af-8a5cabd4ef3d",
   "metadata": {},
   "source": [
    "**Delete the Entire Tuple:**\n",
    "- Use the del keyword to delete the tuple completely"
   ]
  },
  {
   "cell_type": "code",
   "execution_count": 42,
   "id": "6e47dd90-850a-4c52-9d1c-698c1c9e2556",
   "metadata": {},
   "outputs": [],
   "source": [
    "thistuple = (\"apple\", \"banana\", \"cherry\")\n",
    "del thistuple"
   ]
  },
  {
   "cell_type": "markdown",
   "id": "6396f3f3-f299-4d6a-a6b7-fe63351137e1",
   "metadata": {},
   "source": [
    "### Unpack Tuples"
   ]
  },
  {
   "cell_type": "markdown",
   "id": "0f86d1d6-2c02-4c4a-8725-073dfc90f3cf",
   "metadata": {},
   "source": [
    "**Packing and Unpacking a Tuple**  \n",
    "- Packing: Assigning values to a tuple:"
   ]
  },
  {
   "cell_type": "code",
   "execution_count": 45,
   "id": "3f1e6fd1-29f4-45d7-b290-920b7dffb76a",
   "metadata": {},
   "outputs": [],
   "source": [
    "fruits = (\"apple\", \"banana\", \"cherry\")  # Packing"
   ]
  },
  {
   "cell_type": "markdown",
   "id": "96f12074-cb7e-4609-8742-21c9f3a0fe76",
   "metadata": {},
   "source": [
    "- Unpacking: Extracting values back into variables:"
   ]
  },
  {
   "cell_type": "code",
   "execution_count": 47,
   "id": "771f64ce-bce0-487c-949f-adc60b2b4738",
   "metadata": {},
   "outputs": [
    {
     "name": "stdout",
     "output_type": "stream",
     "text": [
      "apple\n",
      "banana\n",
      "cherry\n"
     ]
    }
   ],
   "source": [
    "fruits = (\"apple\", \"banana\", \"cherry\")\n",
    "\n",
    "(green, yellow, red) = fruits  # Unpacking\n",
    "print(green)  \n",
    "print(yellow)  \n",
    "print(red)  "
   ]
  },
  {
   "cell_type": "markdown",
   "id": "935554ab-6b9e-4f3f-a7d7-c77521035c31",
   "metadata": {},
   "source": [
    "Note: The number of variables must match the number of values in the tuple."
   ]
  },
  {
   "cell_type": "markdown",
   "id": "9f7e1f87-0059-4457-9121-47e76e5d65d7",
   "metadata": {},
   "source": [
    "**Using Asterisk (*):**\n",
    "- If the number of variables is less than the number of tuple values, use * to assign the remaining values as a list to one variable."
   ]
  },
  {
   "cell_type": "code",
   "execution_count": 50,
   "id": "0bf468ad-60b3-4fe3-a60d-c08402e8a2b8",
   "metadata": {},
   "outputs": [
    {
     "name": "stdout",
     "output_type": "stream",
     "text": [
      "apple\n",
      "banana\n",
      "['cherry', 'strawberry', 'raspberry']\n"
     ]
    }
   ],
   "source": [
    "fruits = (\"apple\", \"banana\", \"cherry\", \"strawberry\", \"raspberry\")\n",
    "\n",
    "(green, yellow, *red) = fruits\n",
    "print(green)  \n",
    "print(yellow)\n",
    "print(red)  "
   ]
  },
  {
   "cell_type": "markdown",
   "id": "affae1ca-eac7-49d8-aa05-f1720fe93930",
   "metadata": {},
   "source": [
    "**Asterisk Not at the End:**\n",
    "- If the * is added to a variable other than the last one, Python assigns values until the number of remaining values matches the number of remaining variables."
   ]
  },
  {
   "cell_type": "code",
   "execution_count": 52,
   "id": "cff00e76-d1cd-450c-981f-4f74a2c052d8",
   "metadata": {},
   "outputs": [
    {
     "name": "stdout",
     "output_type": "stream",
     "text": [
      "apple\n",
      "['mango', 'papaya', 'pineapple']\n",
      "cherry\n"
     ]
    }
   ],
   "source": [
    "fruits = (\"apple\", \"mango\", \"papaya\", \"pineapple\", \"cherry\")\n",
    "\n",
    "(green, *tropic, red) = fruits\n",
    "print(green)  \n",
    "print(tropic)  \n",
    "print(red) "
   ]
  },
  {
   "cell_type": "markdown",
   "id": "3417e20f-7481-4bd8-9b20-bba602512ce9",
   "metadata": {},
   "source": [
    "### Loop Tuples"
   ]
  },
  {
   "cell_type": "markdown",
   "id": "938462a4-ac18-430b-b388-cb10ca67c034",
   "metadata": {},
   "source": [
    "**Loop Through a Tuple:**\n",
    "- Use a for loop to iterate through the items in a tuple:"
   ]
  },
  {
   "cell_type": "code",
   "execution_count": 55,
   "id": "ab2cfeb9-b7ef-419f-95df-4dfd123f78d7",
   "metadata": {},
   "outputs": [
    {
     "name": "stdout",
     "output_type": "stream",
     "text": [
      "apple\n",
      "banana\n",
      "cherry\n"
     ]
    }
   ],
   "source": [
    "thistuple = (\"apple\", \"banana\", \"cherry\")\n",
    "for x in thistuple:\n",
    "    print(x)"
   ]
  },
  {
   "cell_type": "markdown",
   "id": "10b28da7-29a1-4579-9f24-0ccdce9fcfcd",
   "metadata": {},
   "source": [
    "**Loop Through the Index Numbers:**\n",
    "- Use the range() and len() functions to loop through a tuple by index"
   ]
  },
  {
   "cell_type": "code",
   "execution_count": 57,
   "id": "c0f6081f-2788-449f-9664-1c43a9039be8",
   "metadata": {},
   "outputs": [
    {
     "name": "stdout",
     "output_type": "stream",
     "text": [
      "apple\n",
      "banana\n",
      "cherry\n"
     ]
    }
   ],
   "source": [
    "thistuple = (\"apple\", \"banana\", \"cherry\")\n",
    "for i in range(len(thistuple)):\n",
    "    print(thistuple[i])"
   ]
  },
  {
   "cell_type": "markdown",
   "id": "3d28d034-3801-4d43-8f8e-782e948b0a21",
   "metadata": {},
   "source": [
    "**Using a While Loop:**\n",
    "- Use a while loop to iterate through the tuple"
   ]
  },
  {
   "cell_type": "code",
   "execution_count": 59,
   "id": "400ff15f-993f-4c9b-b7f2-fb14ab926c02",
   "metadata": {},
   "outputs": [
    {
     "name": "stdout",
     "output_type": "stream",
     "text": [
      "apple\n",
      "banana\n",
      "cherry\n"
     ]
    }
   ],
   "source": [
    "thistuple = (\"apple\", \"banana\", \"cherry\")\n",
    "i = 0\n",
    "while i < len(thistuple):\n",
    "    print(thistuple[i])\n",
    "    i += 1"
   ]
  },
  {
   "cell_type": "markdown",
   "id": "62903d78-9d88-4797-8ae5-55cea51cf319",
   "metadata": {},
   "source": [
    "### Join Tuples"
   ]
  },
  {
   "cell_type": "markdown",
   "id": "94073616-c5ab-4c52-8c73-a9fb955d8b6b",
   "metadata": {},
   "source": [
    "**Join Two Tuples:**"
   ]
  },
  {
   "cell_type": "code",
   "execution_count": 62,
   "id": "9b92885f-861c-4945-a936-21409b3ef50c",
   "metadata": {},
   "outputs": [
    {
     "name": "stdout",
     "output_type": "stream",
     "text": [
      "('a', 'b', 'c', 1, 2, 3)\n"
     ]
    }
   ],
   "source": [
    "tuple1 = (\"a\", \"b\", \"c\")\n",
    "tuple2 = (1, 2, 3)\n",
    "\n",
    "tuple3 = tuple1 + tuple2\n",
    "print(tuple3)"
   ]
  },
  {
   "cell_type": "markdown",
   "id": "252f8ce8-7c0c-4f5d-ae9d-250520b938dd",
   "metadata": {},
   "source": [
    "**Multiply Tuples:**"
   ]
  },
  {
   "cell_type": "code",
   "execution_count": 64,
   "id": "63014e9f-f397-4b39-9774-2839d508980d",
   "metadata": {},
   "outputs": [
    {
     "name": "stdout",
     "output_type": "stream",
     "text": [
      "('apple', 'banana', 'cherry', 'apple', 'banana', 'cherry')\n"
     ]
    }
   ],
   "source": [
    "fruits = (\"apple\", \"banana\", \"cherry\")\n",
    "mytuple = fruits * 2\n",
    "\n",
    "print(mytuple)  "
   ]
  },
  {
   "cell_type": "markdown",
   "id": "980716ec-24c0-4133-9e06-f631a4387cc7",
   "metadata": {},
   "source": [
    "### Tuple Methods"
   ]
  },
  {
   "cell_type": "markdown",
   "id": "75bf7963-b9b7-4b9c-af03-bac428c10709",
   "metadata": {},
   "source": [
    "**count():**\n",
    "- Returns the number of times a specified value occurs in a tuple."
   ]
  },
  {
   "cell_type": "code",
   "execution_count": 67,
   "id": "d7c8a81e-4306-4221-8c44-8d63b0de84c4",
   "metadata": {},
   "outputs": [
    {
     "name": "stdout",
     "output_type": "stream",
     "text": [
      "3\n"
     ]
    }
   ],
   "source": [
    "thistuple = (\"apple\", \"banana\", \"cherry\", \"apple\", \"apple\")\n",
    "count_apple = thistuple.count(\"apple\")\n",
    "print(count_apple)"
   ]
  },
  {
   "cell_type": "markdown",
   "id": "024017c3-6b07-44c1-9508-8b16c36f67e2",
   "metadata": {},
   "source": [
    "**index():**\n",
    "- Searches the tuple for a specified value and returns the index of its first occurrence"
   ]
  },
  {
   "cell_type": "code",
   "execution_count": 69,
   "id": "35d6d0d5-830b-4cd3-afdd-0d0991220f00",
   "metadata": {},
   "outputs": [
    {
     "name": "stdout",
     "output_type": "stream",
     "text": [
      "1\n"
     ]
    }
   ],
   "source": [
    "thistuple = (\"apple\", \"banana\", \"cherry\", \"apple\")\n",
    "index_banana = thistuple.index(\"banana\")\n",
    "print(index_banana)"
   ]
  },
  {
   "cell_type": "markdown",
   "id": "9a2c4e98-b045-43f4-8c1b-8867c31577d6",
   "metadata": {},
   "source": [
    "### Homework Coding Exercises"
   ]
  },
  {
   "cell_type": "markdown",
   "id": "577b645d-0787-4a07-8d8c-a692c296101b",
   "metadata": {},
   "source": [
    "**1. Count Specific Items in a Tuple**      \n",
    "Write a code to Count how many times a specific item occurs in the tuple using the count() method for the given tuple."
   ]
  },
  {
   "cell_type": "code",
   "execution_count": 72,
   "id": "d01d0de4-8428-4c06-b3e6-45104f8f8959",
   "metadata": {},
   "outputs": [],
   "source": [
    "mytuple1 = (5, 3, 8, 3, 2, 3, 9)"
   ]
  },
  {
   "cell_type": "markdown",
   "id": "8095b5cc-8d78-41a2-846a-263799b0a4d4",
   "metadata": {},
   "source": [
    "Task:      \n",
    "1. Count how many times 3 appears in the tuple.    \n",
    "2. Count how many times 5 appears in the tuple.   "
   ]
  },
  {
   "cell_type": "markdown",
   "id": "7f243552-17a2-445e-966a-547dce7a876e",
   "metadata": {},
   "source": [
    "**2. Find Index of an Item in a Tuple**   \n",
    "Write a program to find the index of a specific number using the index() method for given tuple."
   ]
  },
  {
   "cell_type": "code",
   "execution_count": 75,
   "id": "3c4558f3-dc7b-4839-b899-cde3b01d9d2a",
   "metadata": {},
   "outputs": [],
   "source": [
    "mytuple2 = (10, 20, 30, 40, 50, 60, 70, 80, 90, 100)"
   ]
  },
  {
   "cell_type": "markdown",
   "id": "95c65f4c-bafe-425e-9d34-a244c2b11861",
   "metadata": {},
   "source": [
    "**Task:**\n",
    "\n",
    "1. Find the index of 40.\n",
    "2. Find the index of 90."
   ]
  },
  {
   "cell_type": "markdown",
   "id": "d6371410-9f81-4c27-806b-7414703624fe",
   "metadata": {},
   "source": [
    "### 3. Unpack and Modify a Tuple"
   ]
  },
  {
   "cell_type": "markdown",
   "id": "34001812-9a44-4614-b5fb-701cebe9b7b1",
   "metadata": {},
   "source": [
    "Write a code to unpack the following tuple into variables, modify one of the values, and create a new tuple."
   ]
  },
  {
   "cell_type": "code",
   "execution_count": 79,
   "id": "99665a7a-e191-4d28-bd72-4938b087ad21",
   "metadata": {},
   "outputs": [],
   "source": [
    "fruits = (\"apple\", \"banana\", \"cherry\")"
   ]
  },
  {
   "cell_type": "markdown",
   "id": "2746e37d-2e47-4665-bf66-b6f793d45fc2",
   "metadata": {},
   "source": [
    "**Task:**\n",
    "\n",
    "1. Unpack the tuple into variables: fruit1, fruit2, fruit3.\n",
    "2. Change fruit2 to \"kiwi\".\n",
    "3. Create a new tuple with the modified values."
   ]
  },
  {
   "cell_type": "markdown",
   "id": "daacb850-009b-4026-a152-681886dc0f0a",
   "metadata": {},
   "source": [
    "**4. Concatenate (Join) and Multiply Tuples**    \n",
    "Write a code to concatenate two tuples and multiply the resulting tuple by 2 for following tuple."
   ]
  },
  {
   "cell_type": "code",
   "execution_count": 82,
   "id": "45d32e4a-d34f-479e-9969-3074bb862789",
   "metadata": {},
   "outputs": [],
   "source": [
    "tuple1 = (\"A\", \"B\", \"C\")\n",
    "tuple2 = (1, 2, 3)"
   ]
  },
  {
   "cell_type": "markdown",
   "id": "75878d1f-7075-4357-9cfb-20b2675427f9",
   "metadata": {},
   "source": [
    "**Task:**\n",
    "1. Create a new tuple by concatenating tuple1 and tuple2.\n",
    "2. Multiply the resulting tuple by 2."
   ]
  },
  {
   "cell_type": "markdown",
   "id": "bd102643-d074-4ca9-b486-7b29851f3e59",
   "metadata": {},
   "source": [
    "**5. Access Items Using Index and Slicing**    \n",
    "Write a code to:\n",
    "\n",
    "1. Access the 3rd item from the tuple.\n",
    "2. Access the last 2 items from the tuple using negative indexing.\n",
    "3. Slice the tuple to get the first 5 items."
   ]
  },
  {
   "cell_type": "code",
   "execution_count": 85,
   "id": "ee0c2a63-5b47-40f4-b7b7-77a4029c4968",
   "metadata": {},
   "outputs": [],
   "source": [
    "alpha = (\"a\", \"b\", \"c\", \"d\", \"e\", \"f\", \"g\", \"h\", \"i\", \"j\")"
   ]
  },
  {
   "cell_type": "code",
   "execution_count": null,
   "id": "2f198e09-4f14-41a5-bce6-838c3c143dca",
   "metadata": {},
   "outputs": [],
   "source": []
  }
 ],
 "metadata": {
  "kernelspec": {
   "display_name": "Python 3 (ipykernel)",
   "language": "python",
   "name": "python3"
  },
  "language_info": {
   "codemirror_mode": {
    "name": "ipython",
    "version": 3
   },
   "file_extension": ".py",
   "mimetype": "text/x-python",
   "name": "python",
   "nbconvert_exporter": "python",
   "pygments_lexer": "ipython3",
   "version": "3.12.4"
  }
 },
 "nbformat": 4,
 "nbformat_minor": 5
}
